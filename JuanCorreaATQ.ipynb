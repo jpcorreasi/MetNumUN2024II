{
  "nbformat": 4,
  "nbformat_minor": 0,
  "metadata": {
    "colab": {
      "provenance": [],
      "authorship_tag": "ABX9TyPUX8TyVH7kmdSofPT6th2q",
      "include_colab_link": true
    },
    "kernelspec": {
      "name": "python3",
      "display_name": "Python 3"
    },
    "language_info": {
      "name": "python"
    }
  },
  "cells": [
    {
      "cell_type": "markdown",
      "metadata": {
        "id": "view-in-github",
        "colab_type": "text"
      },
      "source": [
        "<a href=\"https://colab.research.google.com/github/jpcorreasi/MetNumUN2024II/blob/main/JuanCorreaATQ.ipynb\" target=\"_parent\"><img src=\"https://colab.research.google.com/assets/colab-badge.svg\" alt=\"Open In Colab\"/></a>"
      ]
    },
    {
      "cell_type": "code",
      "execution_count": null,
      "metadata": {
        "id": "r_2QyN93HAlb"
      },
      "outputs": [],
      "source": []
    },
    {
      "cell_type": "markdown",
      "source": [
        "Modificaciones:\n",
        "\n",
        "Uso de activos unicamente liquido"
      ],
      "metadata": {
        "id": "TO_k2fnVHJcz"
      }
    },
    {
      "cell_type": "code",
      "source": [
        "#Función get_features()\n",
        "liq = data.sel(field=\"is_liquid\").ffill(\"time\").bfill(\"time\").fillna(0)\n",
        "\n",
        "# Expand liquidity to match dimensions of result\n",
        "liq_expanded = liq.expand_dims(field=result.field)  # Match the \"field\" dimension\n",
        "\n",
        "# Apply liquidity filter (assets with liq == 0 will be excluded)\n",
        "result = result.where(liq_expanded > 0.5, drop=True)"
      ],
      "metadata": {
        "id": "Dic6-nzPHRI4"
      },
      "execution_count": null,
      "outputs": []
    },
    {
      "cell_type": "markdown",
      "source": [
        "Cambio al S&P 500"
      ],
      "metadata": {
        "id": "SjsFD5XmJdDR"
      }
    },
    {
      "cell_type": "code",
      "source": [
        "# loading S&P 500 stock data\n",
        "assets = [\"NAS:AAPL\", \"NAS:AMZN\"]#, \"NVDA\", \"GOOG\", \"META\", \"TSLA\"]\n",
        "stock_data = qndata.stocks.load_spx_data(tail = 365 * 5)#, assets = assets"
      ],
      "metadata": {
        "id": "KL2QheuHJkGh"
      },
      "execution_count": null,
      "outputs": []
    },
    {
      "cell_type": "markdown",
      "source": [
        "Se incluyeron todos los activos"
      ],
      "metadata": {
        "id": "Mz2TIT_AJyco"
      }
    },
    {
      "cell_type": "markdown",
      "source": [
        "**Indicadores adicionados al analisis**\n",
        "\n"
      ],
      "metadata": {
        "id": "wF91QbNyHbjB"
      }
    },
    {
      "cell_type": "markdown",
      "source": [
        "El TRIX (Triple Exponential Average) es un indicador técnico que mide el porcentaje de cambio en una media móvil exponencial triple de los precios durante un número determinado de períodos. Es ampliamente utilizado para identificar tendencias y filtrar el ruido en los datos de precios."
      ],
      "metadata": {
        "id": "daFoY9ZNIYVa"
      }
    },
    {
      "cell_type": "code",
      "source": [
        "trix = qnt.ta.trix(close, 14)"
      ],
      "metadata": {
        "id": "yjM3_9EZIHmI"
      },
      "execution_count": null,
      "outputs": []
    },
    {
      "cell_type": "markdown",
      "source": [
        "Stochastic: El Stochastic Oscillator es un indicador técnico que compara el precio de cierre actual de un activo con su rango de precios (máximo y mínimo) durante un número determinado de períodos. Se utiliza principalmente para identificar condiciones de sobrecompra y sobreventa, así como posibles cambios en la dirección de la tendencia."
      ],
      "metadata": {
        "id": "yGtLTfbsIffQ"
      }
    },
    {
      "cell_type": "code",
      "source": [
        "stochastic = qnt.ta.stochastic(high, low, close, 14)"
      ],
      "metadata": {
        "id": "AE4N3pQtI1_q"
      },
      "execution_count": null,
      "outputs": []
    },
    {
      "cell_type": "markdown",
      "source": [
        "La WMA (Weighted Moving Average) o Media Móvil Ponderada es un tipo de media móvil que asigna más peso a los precios más recientes y menos peso a los precios más antiguos. Esto la hace más sensible a los cambios recientes en el precio, en comparación con la media móvil simple (SMA), que da el mismo peso a todos los precios del período."
      ],
      "metadata": {
        "id": "jQnZHpKXI9AY"
      }
    },
    {
      "cell_type": "code",
      "source": [
        "wma = qnt.ta.wma(close, 20)\n"
      ],
      "metadata": {
        "id": "vvWNAWHpJExi"
      },
      "execution_count": null,
      "outputs": []
    },
    {
      "cell_type": "markdown",
      "source": [
        "**Modelo usado**"
      ],
      "metadata": {
        "id": "7v1bPGKBLurB"
      }
    },
    {
      "cell_type": "markdown",
      "source": [
        "El Histogram Gradient Boosting (HGB) es una variante avanzada del algoritmo tradicional de Gradient Boosting que está diseñado para mejorar la velocidad y la eficiencia al manejar grandes conjuntos de datos, el Histogram Gradient Boosting analiza los patrones, relaciones y dependencias en datos estructurados para hacer predicciones o clasificaciones de alta precisión"
      ],
      "metadata": {
        "id": "KLV_cXeWL2xK"
      }
    },
    {
      "cell_type": "code",
      "source": [
        "\n",
        " #Función get_model()\n",
        " model = HistGradientBoostingClassifier()"
      ],
      "metadata": {
        "id": "dL0vMe7ML18j"
      },
      "execution_count": null,
      "outputs": []
    },
    {
      "cell_type": "markdown",
      "source": [
        "![lab 55.PNG](data:image/png;base64,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)"
      ],
      "metadata": {
        "id": "vPMjdPAAMN54"
      }
    },
    {
      "cell_type": "code",
      "source": [],
      "metadata": {
        "id": "ozbFEdK5MVs5"
      },
      "execution_count": null,
      "outputs": []
    },
    {
      "cell_type": "markdown",
      "source": [
        "Esta es la grafica generada por el modelo y el Sharpe Ratio fue de 0.983824646\n"
      ],
      "metadata": {
        "id": "Zamv1Q_PMWG4"
      }
    }
  ]
}